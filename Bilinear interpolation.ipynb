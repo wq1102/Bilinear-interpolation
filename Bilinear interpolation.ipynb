{
 "cells": [
  {
   "cell_type": "code",
   "execution_count": 1,
   "metadata": {},
   "outputs": [],
   "source": [
    "import cv2\n",
    "import numpy as np\n",
    "import matplotlib.pyplot as plt"
   ]
  },
  {
   "cell_type": "code",
   "execution_count": 2,
   "metadata": {},
   "outputs": [],
   "source": [
    "def Bilinear_interpolation(src, new_size):\n",
    "    dst_w, dst_h = new_size #目标图像的宽和高\n",
    "    src_h, src_w = src.shape[:2] #shap = (h,w,c)\n",
    "    if src_h == dst_h and src_w == dst_w:\n",
    "        return src.copy()\n",
    "    scale_x = float(src_w) / dst_w #缩放比例\n",
    "    scale_y = float(src_h) / dst_h\n",
    "    \n",
    "    #遍历目标图，插值\n",
    "    dst = np.zeros((dst_h, dst_w, 3), dtype = np.uint8)#生成一张目标尺寸大小的空白图\n",
    "    for n in range(dst.shape[2]):#循环channel\n",
    "        for dst_y in range(dst_h):\n",
    "            for dst_x in range(dst_w):\n",
    "                #目标像素在原图上的坐标\n",
    "                src_x = (dst_x + 0.5) * scale_x - 0.5 #src + 0.5 = (dst +0.5) * scale\n",
    "                src_y = (dst_y + 0.5) * scale_y - 0.5\n",
    "                \n",
    "                #计算在原图上四个临近点的位置\n",
    "                src_x_0 = int(np.floor(src_x)) #向下取整\n",
    "                src_y_0 = int(np.floor(src_y))\n",
    "                src_x_1 = min(src_x_0 + 1, src_w - 1) #防止出界\n",
    "                src_y_1 = min(src_y_0 + 1, src_h - 1)\n",
    "                \n",
    "                #双线性插值\n",
    "                value0 = (src_x_1 - src_x) * src[src_y_0, src_x_0, n] + (src_x - src_x_0) * src[src_y_0, src_x_1, n]\n",
    "                value1 = (src_x_1 - src_x) * src[src_y_1, src_x_0, n] + (src_x - src_x_0) * src[src_y_1, src_x_1, n]\n",
    "                dst[dst_y, dst_x, n] = int((src_y_1 - src_y) * value0 + (src_y - src_y_0)* value1)\n",
    "    return dst\n",
    "                "
   ]
  },
  {
   "cell_type": "code",
   "execution_count": 3,
   "metadata": {},
   "outputs": [
    {
     "name": "stdout",
     "output_type": "stream",
     "text": [
      "(450, 615, 3)\n",
      "(1000, 1000, 3)\n"
     ]
    }
   ],
   "source": [
    "if __name__ == '__main__':\n",
    "    img_in = cv2.imread('1.jpg')\n",
    "    img_out = Bilinear_interpolation(img_in, (1000,1000))\n",
    "    cv2.imshow('src_img',img_in)\n",
    "    cv2.imshow('dst_img',img_out)\n",
    "    \n",
    "    key = cv2.waitKey()\n",
    "    if key == 27:\n",
    "        cv2.destroyAllWindows()\n",
    "        \n",
    "    print(img_in.shape)\n",
    "    print(img_out.shape)"
   ]
  }
 ],
 "metadata": {
  "kernelspec": {
   "display_name": "Python 3",
   "language": "python",
   "name": "python3"
  },
  "language_info": {
   "codemirror_mode": {
    "name": "ipython",
    "version": 3
   },
   "file_extension": ".py",
   "mimetype": "text/x-python",
   "name": "python",
   "nbconvert_exporter": "python",
   "pygments_lexer": "ipython3",
   "version": "3.7.4"
  }
 },
 "nbformat": 4,
 "nbformat_minor": 2
}
